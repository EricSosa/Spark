{
 "cells": [
  {
   "cell_type": "code",
   "execution_count": 1,
   "metadata": {},
   "outputs": [],
   "source": [
    "from pyspark import SparkContext, SparkConf\n",
    "import random\n",
    "sc = SparkContext(appName=\"YourTest\", master=\"local[2]\", conf=SparkConf().set('spark.ui.port', random.randrange(4000,5000)))"
   ]
  },
  {
   "cell_type": "code",
   "execution_count": 4,
   "metadata": {},
   "outputs": [],
   "source": [
    "def num_nodes_edges():\n",
    "    \"\"\"Returns a tuple (num_nodes, num_edges)\"\"\"\n",
    "    nodes = sc.textFile(\"p2p-Gnutella08-adj.txt\")\n",
    "    num_nodes = nodes.count()\n",
    "    num_edges = nodes.map(lambda x:len(x.split(\"\t\"))-1).reduce(lambda x,y:x+y)\n",
    "    return (num_nodes, num_edges)\n",
    "    \n",
    "    \n",
    "def out_counts():\n",
    "    \"\"\"Returns a dictionary where the keys are the outdegrees, and the \n",
    "    values are the number of nodes of the corresponding outdegree \"\"\"\n",
    "    nodes = sc.textFile(\"p2p-Gnutella08-adj.txt\")\n",
    "    out = nodes.map(lambda x:len(x.split(\"\t\"))-1).map(lambda x:(x,1)).reduceByKey(lambda x,y:x+y).sortBy(lambda x:x[0], True)\n",
    "    return out.collect()\n",
    "\n",
    "\n",
    "def in_counts():\n",
    "    \"\"\"Returns a dictionary where the keys are the indegrees, and the \n",
    "    values are the number of nodes of the corresponding indegree \"\"\"\n",
    "    nodes = sc.textFile(\"p2p-Gnutella08-adj.txt\")\n",
    "    ind = nodes.flatMap(lambda x : x.split(\"\t\")).map(lambda x:(x,1)).reduceByKey(lambda x,y:x+y).map(lambda x:(x[0],x[1]-1))\n",
    "    ind = ind.map(lambda x : (x[1],1)).reduceByKey(lambda x,y:x+y).sortBy(lambda x:x[0], True)\n",
    "    return ind.collect()\n"
   ]
  },
  {
   "cell_type": "code",
   "execution_count": 17,
   "metadata": {},
   "outputs": [],
   "source": [
    "def personalized_page_rank(source_node_id, num_iterations, jump_factor):\n",
    "    \"\"\"Returns a list of the 10 nodes with the highest page rank value along with their value, as tuples\n",
    "    [(node_id_1, highest_pagerank_value), ..., (node_id_10, 10th_highest_pagerank_value)]\"\"\"\n",
    "    def pagerank(x):\n",
    "        r = x[1][1]\n",
    "        outs = x[1][0]\n",
    "        ranks = []\n",
    "        for o in outs:\n",
    "            f = (1-jump_factor)*(r/len(outs))\n",
    "            ranks.append((o,f))\n",
    "        if x[0]==str(source_node_id):\n",
    "            ranks.append((x[0],jump_factor))\n",
    "        return ranks\n",
    "    nodes = sc.textFile(\"p2p-Gnutella08-adj.txt\")\n",
    "    n = nodes.map(lambda x : x.split(\"\t\")).map(lambda x:(x[0],x[1:])).cache()    \n",
    "    rank = nodes.map(lambda x : x.split(\"\t\")).map(lambda x:(x[0],1)if(x[0]==str(source_node_id))else(x[0],0))\n",
    "    for x in range(num_iterations):\n",
    "        rank = n.join(rank).flatMap(lambda x:pagerank(x)).reduceByKey(lambda x,y:x+y)\n",
    "        dif = (1-(rank.map(lambda x : x[1]).sum()))\n",
    "        rank = rank.map(lambda x:(x[0],x[1]+dif)if(x[0]==str(source_node_id))else(x[0],x[1]))\n",
    "    return rank.sortBy(lambda x:(x[1]), False).take(10)\n",
    "    "
   ]
  },
  {
   "cell_type": "code",
   "execution_count": 19,
   "metadata": {},
   "outputs": [],
   "source": [
    "def personalized_page_rank_stopping_criterion(source_node_id, jump_factor):\n",
    "    \"\"\"Returns a list of the 10 nodes with the highest page rank value along with their value, as tuples\n",
    "    [(node_id_1, highest_pagerank_value), ..., (node_id_10, 10th_highest_pagerank_value)]\"\"\"\n",
    "    def pagerank(x):\n",
    "        r = x[1][1]\n",
    "        outs = x[1][0]\n",
    "        ranks = []\n",
    "        for o in outs:\n",
    "            f = (1-jump_factor)*(r/len(outs))\n",
    "            ranks.append((o,f))\n",
    "        if x[0]==str(source_node_id):\n",
    "            ranks.append((x[0],jump_factor))\n",
    "        return ranks\n",
    "    nodes = sc.textFile(\"p2p-Gnutella08-adj.txt\")\n",
    "    n = nodes.map(lambda x : x.split(\"\t\")).map(lambda x:(x[0],x[1:])).cache()    \n",
    "    ncount = n.count()\n",
    "    rank = nodes.map(lambda x : x.split(\"\t\")).map(lambda x:(x[0],1)if(x[0]==str(source_node_id))else(x[0],0))\n",
    "    run = True\n",
    "    while run:\n",
    "        prev = rank\n",
    "        rank = n.join(rank).flatMap(lambda x:pagerank(x)).reduceByKey(lambda x,y:x+y).cache()\n",
    "        dif = (1-(rank.map(lambda x : x[1]).sum()))\n",
    "        rank = rank.map(lambda x:(x[0],x[1]+dif)if(x[0]==str(source_node_id))else(x[0],x[1])).cache()\n",
    "        maxchange = rank.join(prev).mapValues(lambda x:(abs(x[0]-x[1]))).map(lambda x : x[1]).sum()\n",
    "        if (.5/ncount) > maxchange:\n",
    "            run = False\n",
    "    return rank.sortBy(lambda x:(x[1]), False).take(10)\n"
   ]
  }
 ],
 "metadata": {
  "kernelspec": {
   "display_name": "Python 3",
   "language": "python",
   "name": "python3"
  },
  "language_info": {
   "codemirror_mode": {
    "name": "ipython",
    "version": 3
   },
   "file_extension": ".py",
   "mimetype": "text/x-python",
   "name": "python",
   "nbconvert_exporter": "python",
   "pygments_lexer": "ipython3",
   "version": "3.6.9"
  }
 },
 "nbformat": 4,
 "nbformat_minor": 2
}